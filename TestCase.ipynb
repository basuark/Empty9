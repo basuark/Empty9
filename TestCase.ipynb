{
 "cells": [
  {
   "cell_type": "code",
   "execution_count": 1,
   "id": "01bf61f9-a50b-45cb-8698-c83b85211c42",
   "metadata": {},
   "outputs": [],
   "source": [
    "import pickle\n",
    "import os\n",
    "from sklearn.tree import DecisionTreeClassifier\n",
    "import pandas as pd"
   ]
  },
  {
   "cell_type": "code",
   "execution_count": 2,
   "id": "bfada128-a726-42f7-b1d6-73c29d2045eb",
   "metadata": {},
   "outputs": [],
   "source": [
    "def input_fn():\n",
    "    input_list=['abdominal_pain',\n",
    "     'abnormal_menstruation',\n",
    "     'acidity',\n",
    "     'acute_liver_failure',\n",
    "     'altered_sensorium',\n",
    "     'anxiety',\n",
    "     'back_pain',\n",
    "     'belly_pain',\n",
    "     'blackheads',\n",
    "     'bladder_discomfort',\n",
    "     'blister',\n",
    "     'blood_in_sputum',\n",
    "     'bloody_stool',\n",
    "     'blurred_and_distorted_vision',\n",
    "     'breathlessness',\n",
    "     'brittle_nails',\n",
    "     'bruising',\n",
    "     'burning_micturition',\n",
    "     'chest_pain',\n",
    "     'chills',\n",
    "     'cold_hands_and_feets',\n",
    "     'coma',\n",
    "     'congestion',\n",
    "     'constipation',\n",
    "     'continuous_feel_of_urine',\n",
    "     'continuous_sneezing',\n",
    "     'cough',\n",
    "     'cramps',\n",
    "     'dark_urine',\n",
    "     'dehydration',\n",
    "     'depression',\n",
    "     'diarrhoea',\n",
    "     'dischromic _patches',\n",
    "     'distention_of_abdomen',\n",
    "     'dizziness',\n",
    "     'drying_and_tingling_lips',\n",
    "     'enlarged_thyroid',\n",
    "     'excessive_hunger',\n",
    "     'extra_marital_contacts',\n",
    "     'family_history',\n",
    "     'fast_heart_rate',\n",
    "     'fatigue',\n",
    "     'fluid_overload',\n",
    "     'foul_smell_of urine',\n",
    "     'headache',\n",
    "     'high_fever',\n",
    "     'hip_joint_pain',\n",
    "     'history_of_alcohol_consumption',\n",
    "     'increased_appetite',\n",
    "     'indigestion',\n",
    "     'inflammatory_nails',\n",
    "     'internal_itching',\n",
    "     'irregular_sugar_level',\n",
    "     'irritability',\n",
    "     'irritation_in_anus',\n",
    "     'itching',\n",
    "     'joint_pain',\n",
    "     'knee_pain',\n",
    "     'lack_of_concentration',\n",
    "     'lethargy',\n",
    "     'loss_of_appetite',\n",
    "     'loss_of_balance',\n",
    "     'loss_of_smell',\n",
    "     'malaise',\n",
    "     'mild_fever',\n",
    "     'mood_swings',\n",
    "     'movement_stiffness',\n",
    "     'mucoid_sputum',\n",
    "     'muscle_pain',\n",
    "     'muscle_wasting',\n",
    "     'muscle_weakness',\n",
    "     'nausea',\n",
    "     'neck_pain',\n",
    "     'nodal_skin_eruptions',\n",
    "     'obesity',\n",
    "     'pain_behind_the_eyes',\n",
    "     'pain_during_bowel_movements',\n",
    "     'pain_in_anal_region',\n",
    "     'painful_walking',\n",
    "     'palpitations',\n",
    "     'passage_of_gases',\n",
    "     'patches_in_throat',\n",
    "     'phlegm',\n",
    "     'polyuria',\n",
    "     'prominent_veins_on_calf',\n",
    "     'puffy_face_and_eyes',\n",
    "     'pus_filled_pimples',\n",
    "     'receiving_blood_transfusion',\n",
    "     'receiving_unsterile_injections',\n",
    "     'red_sore_around_nose',\n",
    "     'red_spots_over_body',\n",
    "     'redness_of_eyes',\n",
    "     'restlessness',\n",
    "     'runny_nose',\n",
    "     'rusty_sputum',\n",
    "     'scurring',\n",
    "     'shivering',\n",
    "     'silver_like_dusting',\n",
    "     'sinus_pressure',\n",
    "     'skin_peeling',\n",
    "     'skin_rash',\n",
    "     'slurred_speech',\n",
    "     'small_dents_in_nails',\n",
    "     'spinning_movements',\n",
    "     'spotting_ urination',\n",
    "     'stiff_neck',\n",
    "     'stomach_bleeding',\n",
    "     'stomach_pain',\n",
    "     'sunken_eyes',\n",
    "     'sweating',\n",
    "     'swelled_lymph_nodes',\n",
    "     'swelling_joints',\n",
    "     'swelling_of_stomach',\n",
    "     'swollen_blood_vessels',\n",
    "     'swollen_extremeties',\n",
    "     'swollen_legs',\n",
    "     'throat_irritation',\n",
    "     'toxic_look_(typhos)',\n",
    "     'ulcers_on_tongue',\n",
    "     'unsteadiness',\n",
    "     'visual_disturbances',\n",
    "     'vomiting',\n",
    "     'watering_from_eyes',\n",
    "     'weakness_in_limbs',\n",
    "     'weakness_of_one_body_side',\n",
    "     'weight_gain',\n",
    "     'weight_loss',\n",
    "     'yellow_crust_ooze',\n",
    "     'yellow_urine',\n",
    "     'yellowing_of_eyes',\n",
    "     'yellowish_skin']\n",
    "    print(\"Enter Symptoms by separating them by commas(,): (min 3 symptoms):\")\n",
    "    print(\"Available Inputs: \")\n",
    "    print(input_list)\n",
    "    inp = input(\" Please enter input \").split(\",\")\n",
    "    return inp,input_list"
   ]
  },
  {
   "cell_type": "code",
   "execution_count": 3,
   "id": "1a9688e3-e37b-4c00-bfa8-f940b52f9b62",
   "metadata": {},
   "outputs": [],
   "source": [
    "def process_input(inp,input_list):\n",
    "    dct={}\n",
    "    for i in input_list:\n",
    "        dct[i]=[0]\n",
    "    for i in inp:\n",
    "        dct[i]=[1]\n",
    "    return pd.DataFrame(dct)"
   ]
  },
  {
   "cell_type": "code",
   "execution_count": 4,
   "id": "0fc03c4a-7e68-4309-9140-d62c7a53fbd1",
   "metadata": {},
   "outputs": [
    {
     "data": {
      "text/plain": [
       "sklearn.tree._classes.DecisionTreeClassifier"
      ]
     },
     "execution_count": 4,
     "metadata": {},
     "output_type": "execute_result"
    }
   ],
   "source": [
    "# Import model\n",
    "import pickle\n",
    "model = pickle.load(open(\"models\\\\dtree_model.save\",\"rb\"))                 \n",
    "type(model)"
   ]
  },
  {
   "cell_type": "code",
   "execution_count": 5,
   "id": "31452048-ebb4-44c3-8849-7324f20835dc",
   "metadata": {},
   "outputs": [],
   "source": [
    "import numpy as np\n",
    "le = pickle.load(open(\"data\\\\processed\\\\label_encoder.pkl\",\"rb\"))\n",
    "def predict(model,dct):\n",
    "    df=dct\n",
    "    y_pred = model.predict(df)\n",
    "    return le.inverse_transform(np.array(y_pred))\n"
   ]
  },
  {
   "cell_type": "code",
   "execution_count": 6,
   "id": "62439297-0ac3-4a2f-9fba-9de89f7a671b",
   "metadata": {},
   "outputs": [],
   "source": [
    "def run():\n",
    "    inp,inp_lst = input_fn()\n",
    "    dct = process_input(inp,inp_lst)\n",
    "    out =predict(model,dct)\n",
    "    return out"
   ]
  },
  {
   "cell_type": "code",
   "execution_count": 7,
   "id": "789fc09d-35b1-4f8f-936d-b0291722b244",
   "metadata": {},
   "outputs": [
    {
     "name": "stdout",
     "output_type": "stream",
     "text": [
      "Enter Symptoms by separating them by commas(,): (min 3 symptoms):\n",
      "Available Inputs: \n",
      "['abdominal_pain', 'abnormal_menstruation', 'acidity', 'acute_liver_failure', 'altered_sensorium', 'anxiety', 'back_pain', 'belly_pain', 'blackheads', 'bladder_discomfort', 'blister', 'blood_in_sputum', 'bloody_stool', 'blurred_and_distorted_vision', 'breathlessness', 'brittle_nails', 'bruising', 'burning_micturition', 'chest_pain', 'chills', 'cold_hands_and_feets', 'coma', 'congestion', 'constipation', 'continuous_feel_of_urine', 'continuous_sneezing', 'cough', 'cramps', 'dark_urine', 'dehydration', 'depression', 'diarrhoea', 'dischromic _patches', 'distention_of_abdomen', 'dizziness', 'drying_and_tingling_lips', 'enlarged_thyroid', 'excessive_hunger', 'extra_marital_contacts', 'family_history', 'fast_heart_rate', 'fatigue', 'fluid_overload', 'foul_smell_of urine', 'headache', 'high_fever', 'hip_joint_pain', 'history_of_alcohol_consumption', 'increased_appetite', 'indigestion', 'inflammatory_nails', 'internal_itching', 'irregular_sugar_level', 'irritability', 'irritation_in_anus', 'itching', 'joint_pain', 'knee_pain', 'lack_of_concentration', 'lethargy', 'loss_of_appetite', 'loss_of_balance', 'loss_of_smell', 'malaise', 'mild_fever', 'mood_swings', 'movement_stiffness', 'mucoid_sputum', 'muscle_pain', 'muscle_wasting', 'muscle_weakness', 'nausea', 'neck_pain', 'nodal_skin_eruptions', 'obesity', 'pain_behind_the_eyes', 'pain_during_bowel_movements', 'pain_in_anal_region', 'painful_walking', 'palpitations', 'passage_of_gases', 'patches_in_throat', 'phlegm', 'polyuria', 'prominent_veins_on_calf', 'puffy_face_and_eyes', 'pus_filled_pimples', 'receiving_blood_transfusion', 'receiving_unsterile_injections', 'red_sore_around_nose', 'red_spots_over_body', 'redness_of_eyes', 'restlessness', 'runny_nose', 'rusty_sputum', 'scurring', 'shivering', 'silver_like_dusting', 'sinus_pressure', 'skin_peeling', 'skin_rash', 'slurred_speech', 'small_dents_in_nails', 'spinning_movements', 'spotting_ urination', 'stiff_neck', 'stomach_bleeding', 'stomach_pain', 'sunken_eyes', 'sweating', 'swelled_lymph_nodes', 'swelling_joints', 'swelling_of_stomach', 'swollen_blood_vessels', 'swollen_extremeties', 'swollen_legs', 'throat_irritation', 'toxic_look_(typhos)', 'ulcers_on_tongue', 'unsteadiness', 'visual_disturbances', 'vomiting', 'watering_from_eyes', 'weakness_in_limbs', 'weakness_of_one_body_side', 'weight_gain', 'weight_loss', 'yellow_crust_ooze', 'yellow_urine', 'yellowing_of_eyes', 'yellowish_skin']\n"
     ]
    },
    {
     "name": "stdin",
     "output_type": "stream",
     "text": [
      " Please enter input  itching,skin_rash,nodal_skin_eruptions\n"
     ]
    },
    {
     "data": {
      "text/plain": [
       "array(['Fungal infection'], dtype=object)"
      ]
     },
     "execution_count": 7,
     "metadata": {},
     "output_type": "execute_result"
    }
   ],
   "source": [
    "run()"
   ]
  },
  {
   "cell_type": "code",
   "execution_count": null,
   "id": "49c3be72-1c28-4784-a9c8-b1b8db1642de",
   "metadata": {},
   "outputs": [],
   "source": []
  }
 ],
 "metadata": {
  "kernelspec": {
   "display_name": "Python 3 (ipykernel)",
   "language": "python",
   "name": "python3"
  },
  "language_info": {
   "codemirror_mode": {
    "name": "ipython",
    "version": 3
   },
   "file_extension": ".py",
   "mimetype": "text/x-python",
   "name": "python",
   "nbconvert_exporter": "python",
   "pygments_lexer": "ipython3",
   "version": "3.9.12"
  }
 },
 "nbformat": 4,
 "nbformat_minor": 5
}
